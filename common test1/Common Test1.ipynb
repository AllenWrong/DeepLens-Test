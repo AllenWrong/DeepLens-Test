{
 "cells": [
  {
   "cell_type": "markdown",
   "id": "a275ec9d",
   "metadata": {},
   "source": [
    "# Prepare"
   ]
  },
  {
   "cell_type": "code",
   "execution_count": 1,
   "id": "4da6a957",
   "metadata": {},
   "outputs": [],
   "source": [
    "import torch\n",
    "import numpy as np\n",
    "import random\n",
    "from torch.backends import cudnn"
   ]
  },
  {
   "cell_type": "markdown",
   "id": "3edb3f8f",
   "metadata": {},
   "source": [
    "**Set the seed. Let the result can be Reproducible**"
   ]
  },
  {
   "cell_type": "code",
   "execution_count": 2,
   "id": "a4bb5c79",
   "metadata": {},
   "outputs": [],
   "source": [
    "seed = 20\n",
    "\n",
    "# set random seed\n",
    "torch.manual_seed(seed)\n",
    "torch.cuda.manual_seed_all(seed)\n",
    "np.random.seed(seed)\n",
    "random.seed(seed)\n",
    "cudnn.deterministic = True"
   ]
  },
  {
   "cell_type": "code",
   "execution_count": 3,
   "id": "d32443d6",
   "metadata": {},
   "outputs": [],
   "source": [
    "device = torch.device(\"cuda\" if torch.cuda.is_available() else \"cpu\")\n",
    "torch.set_default_dtype(torch.float64)"
   ]
  },
  {
   "cell_type": "markdown",
   "id": "7ddb56d8",
   "metadata": {},
   "source": [
    "# Data Define"
   ]
  },
  {
   "cell_type": "code",
   "execution_count": 4,
   "id": "3342ee46",
   "metadata": {},
   "outputs": [],
   "source": [
    "# import package\n",
    "from torch.utils.data import Dataset\n",
    "import pandas as pd\n",
    "import numpy as np\n",
    "import torchvision.transforms as transforms\n",
    "import os\n",
    "import torch"
   ]
  },
  {
   "cell_type": "markdown",
   "id": "d7467256",
   "metadata": {},
   "source": [
    "## MyData class Define"
   ]
  },
  {
   "cell_type": "code",
   "execution_count": 5,
   "id": "245a4012",
   "metadata": {},
   "outputs": [],
   "source": [
    "class MyData(Dataset):\n",
    "\n",
    "    def __init__(self, csv_file, data_dir, transform=None):\n",
    "        self.desc = pd.read_csv(csv_file)\n",
    "        self.data_dir = data_dir\n",
    "        self.transform = transform\n",
    "        print(self.transform)\n",
    "\n",
    "    def __len__(self):\n",
    "        return len(self.desc)\n",
    "\n",
    "    def __getitem__(self, item):\n",
    "        path = os.path.join(self.data_dir, self.desc.iloc[item, 0])\n",
    "        x = np.load(path)[0]\n",
    "\n",
    "        if self.transform is not None:\n",
    "            x = self.transform(x)\n",
    "\n",
    "        label = torch.tensor(self.desc.iloc[item, 1])\n",
    "        return x, label"
   ]
  },
  {
   "cell_type": "markdown",
   "id": "468aba70",
   "metadata": {},
   "source": [
    "## Create Data Description"
   ]
  },
  {
   "cell_type": "markdown",
   "id": "01e5669e",
   "metadata": {},
   "source": [
    "The file organization of this task dataset should be as follows:\n",
    "\n",
    "****\n",
    "```\n",
    "DeepLens-Test\n",
    "  |-- common test1\n",
    "     |-- dataset\n",
    "        |-- train\n",
    "           |-- no\n",
    "           |-- sphere\n",
    "           |-- vort\n",
    "        |-- val\n",
    "           |-- no\n",
    "           |-- sphere\n",
    "           |-- vort\n",
    "        |-- train description.csv\n",
    "        |-- val description.csv\n",
    "```\n",
    "****\n",
    "\n",
    "`train description.csv` and `val description.csv` is generate by program. I have provided it. Dataset can be get <a href=\"https://drive.google.com/file/d/1B_UZtU4W65ZViTJsLeFfvK-xXCYUhw2A/view\">here</a>."
   ]
  },
  {
   "cell_type": "code",
   "execution_count": null,
   "id": "89b80836",
   "metadata": {},
   "outputs": [],
   "source": [
    "def index_of_class(classname):\n",
    "    if classname == \"no\":\n",
    "        return 0\n",
    "    elif classname == \"sphere\":\n",
    "        return 1\n",
    "    elif classname == \"vort\":\n",
    "        return 2\n",
    "    else:\n",
    "        raise Exception(\"unknown class name!\")\n",
    "        \n",
    "\n",
    "def create_data_description(data_dir, need_num):\n",
    "    \"\"\"create a description csv file. see \"./dataset/train description.csv\"\n",
    "    or \"/dataset/val description.csv\". Some demo example can be find in demo.py\n",
    "\n",
    "    Args:\n",
    "        data_dir:\n",
    "            root directory of train or val dataset. Here,\n",
    "            it should be \"./dataset/train\", or \"./dataset/val\"\n",
    "        need_num:\n",
    "            set the numbers of samples you need.\n",
    "    \"\"\"\n",
    "\n",
    "    class_dirs = os.listdir(data_dir)\n",
    "    line = \"path,label\\n\"\n",
    "\n",
    "    for class_dir in class_dirs:\n",
    "        samples = os.listdir(os.path.join(data_dir, class_dir))[:need_num]\n",
    "        for sample in samples:\n",
    "            line += os.path.join(class_dir, sample) + \",\" + str(index_of_class(class_dir)) + \"\\n\"\n",
    "\n",
    "    prefix = data_dir.split(\"/\")[-1]\n",
    "    store_path = os.path.join(\"./dataset\", f\"{prefix} description.csv\")\n",
    "    with open(store_path, \"w\") as f:\n",
    "        f.write(line)"
   ]
  },
  {
   "cell_type": "markdown",
   "id": "8222ea0f",
   "metadata": {},
   "source": [
    "**run once is ok. If description files already exist, do not run this part.**"
   ]
  },
  {
   "cell_type": "code",
   "execution_count": null,
   "id": "1eb3a068",
   "metadata": {},
   "outputs": [],
   "source": [
    "# create_data_description(\"./dataset/train\", None)\n",
    "# create_data_description(\"./dataset/val\", None)"
   ]
  },
  {
   "cell_type": "markdown",
   "id": "278a0735",
   "metadata": {},
   "source": [
    "# Model Define"
   ]
  },
  {
   "cell_type": "code",
   "execution_count": 6,
   "id": "f0ecd5a3",
   "metadata": {},
   "outputs": [],
   "source": [
    "from torch import nn\n",
    "from torchvision import models\n",
    "from torch.nn import Conv2d"
   ]
  },
  {
   "cell_type": "markdown",
   "id": "870ceca9",
   "metadata": {},
   "source": [
    "This dataset is not complicated. So, simple deep model such as AlexNet, VGG, ResNet, DenseNet can be competent at this task. According to paper[1], for ResNet, the defining feature is that residual networks can skip layers all together in training. This helps speed up the learning rate of the network by allowing the network to train fewer layers in the initial stages of learning. ResNet is more computationally efficient than both VGG and DenseNet. Here, we use ResNet18.\n",
    "\n",
    "Many tasks have been benefit from transfer learning. Transfer learning can speed up the time of training models by reusing modules or parts of pretrained models. This not only speeds up the model training process, but also improves the training effect. By transfer learning, we use the pretrained ResNet18 on ImageNet as backbone. The we add a three layers mlp as a simple classifier. The model architecture look like this:\n",
    "\n",
    "<img src=\"./img/res arch.png\" max-witdh=\"50%\" max-height=\"50%\"/>\n",
    "\n",
    "**[1]** Deep Learning the Morphology of Dark Matter Substructure"
   ]
  },
  {
   "cell_type": "code",
   "execution_count": 7,
   "id": "91ddccb0",
   "metadata": {},
   "outputs": [],
   "source": [
    "class ResNetClf(nn.Module):\n",
    "\n",
    "    def __init__(self, pre_trained):\n",
    "        \"\"\"\n",
    "        Args:\n",
    "            pre_trained: True if want to use pretrained weight else false\n",
    "        \"\"\"\n",
    "        super(ResNetClf, self).__init__()\n",
    "        self.backbone = models.resnet18(pretrained=pre_trained)\n",
    "        self.classifier = nn.Sequential(\n",
    "            nn.Linear(512, 128),\n",
    "            nn.ReLU(),\n",
    "            nn.Linear(128, 64),\n",
    "            nn.ReLU(),\n",
    "            nn.Linear(64, 3)\n",
    "        )\n",
    "        self.backbone.conv1 = Conv2d(1, 64, kernel_size=(7, 7), stride=(2, 2), padding=(3, 3), bias=False)\n",
    "        self.backbone.fc = self.classifier\n",
    "\n",
    "    def forward(self, x):\n",
    "        return self.backbone(x)"
   ]
  },
  {
   "cell_type": "markdown",
   "id": "1aa2680b",
   "metadata": {},
   "source": [
    "# Training"
   ]
  },
  {
   "cell_type": "markdown",
   "id": "71e6fec2",
   "metadata": {},
   "source": [
    "- **data augmentation:** According paper[1], during training I use the data augmengtation via random translation and random rotation.\n",
    "\n",
    "\n",
    "- **batch_size:** I have tried batch_size=200, batch_size=64, batch_size=128. Results show that batch_size=128 same a better choice. Larger batch_size can improve the computational efficiency through the matrix multiply. More larger batch_size reduces the number of iterations required to compute all the training set, so the time required to achieve the same accuracy becomes larger, and the adjust of parameters becomes slow.\n",
    "\n",
    "\n",
    "- **num_epoch:** 50\n",
    "\n",
    "\n",
    "- **lr:** According to paper[1], I set the lr with value of 1e-4. No decay has been adopted. This dataset is not complicated, no lr decay can also get a acceptable performance.\n",
    "\n",
    "\n",
    "- **train:** When one epoch has finished, model will evaluate it's current performance on the validation dataset.  \n",
    "\n",
    "\n",
    "**Final auc is 99.15%, acc is 94.17%**, which is an acceptable result. Detailed training log can be found in **\"./log.txt\"**\n",
    "\n",
    "**[1]** Deep Learning the Morphology of Dark Matter Substructure"
   ]
  },
  {
   "cell_type": "markdown",
   "id": "3428780c",
   "metadata": {},
   "source": [
    "## Training Config Define"
   ]
  },
  {
   "cell_type": "code",
   "execution_count": 8,
   "id": "c4e243e4",
   "metadata": {},
   "outputs": [],
   "source": [
    "class Config:\n",
    "    num_epochs = 50\n",
    "    batch_size = 100\n",
    "    # reference from paper \"Deep Learning the Morphology of Dark Matter Substructure\"\n",
    "    lr = 1e-4"
   ]
  },
  {
   "cell_type": "markdown",
   "id": "aa716c65",
   "metadata": {},
   "source": [
    "## Import Package"
   ]
  },
  {
   "cell_type": "code",
   "execution_count": 9,
   "id": "826c8ec6",
   "metadata": {},
   "outputs": [],
   "source": [
    "import torch.optim as optim\n",
    "from utils import check_accuracy, save_checkpoint\n",
    "import torch.nn as nn\n",
    "from torch.utils.data import DataLoader\n",
    "import time\n",
    "from tqdm import tqdm\n",
    "import sys\n",
    "from torch.optim.lr_scheduler import ReduceLROnPlateau\n",
    "from torchvision import transforms"
   ]
  },
  {
   "cell_type": "markdown",
   "id": "eaeaefd0",
   "metadata": {},
   "source": [
    "## Train Function Define"
   ]
  },
  {
   "cell_type": "code",
   "execution_count": null,
   "id": "d6d582c9",
   "metadata": {},
   "outputs": [],
   "source": [
    "def train_fn(cfg, train_loader, test_loader, model, optimizer, criterion, need_flatten=False):\n",
    "    \"\"\"\n",
    "    train function\n",
    "    Args:\n",
    "        need_flatten: If only mlp is used, this need to be true.\n",
    "    \"\"\"\n",
    "\n",
    "    acc_per_epoch = []\n",
    "    max_auc = 0.0\n",
    "\n",
    "    # lr scheduler\n",
    "    scheduler = ReduceLROnPlateau(\n",
    "        optimizer,\n",
    "        mode=\"max\",\n",
    "        factor=0.3,\n",
    "        patience=3,\n",
    "        threshold=0.001,\n",
    "        min_lr=1e-5,\n",
    "        verbose=True\n",
    "    )\n",
    "\n",
    "    for epoch in range(cfg.num_epochs):\n",
    "        losses_per_batch = []\n",
    "        start_time = time.time()\n",
    "\n",
    "        # mini batch training\n",
    "        # p_bar = tqdm(enumerate(train_loader), leave=False, total=len(train_loader), file=sys.stdout)\n",
    "        for batch_idx, (x_batch, y_batch) in enumerate(train_loader):\n",
    "            # move data to gpu if cuda is available\n",
    "            x_batch = x_batch.to(device)\n",
    "            y_batch = y_batch.to(device)\n",
    "\n",
    "            if need_flatten:\n",
    "                x_batch = x_batch.reshape(x_batch.shape[0], -1)\n",
    "\n",
    "            # forward\n",
    "            scores = model.forward(x_batch)\n",
    "            loss = criterion(scores, y_batch)\n",
    "            losses_per_batch.append(loss.item())\n",
    "\n",
    "            # backward\n",
    "            optimizer.zero_grad()\n",
    "            loss.backward()\n",
    "\n",
    "            # gradient descent step\n",
    "            optimizer.step()\n",
    "\n",
    "        # compute acc and loss\n",
    "        cur_acc, auc, _, _ = check_accuracy(test_loader, model, device, need_flatten)\n",
    "        mean_loss = sum(losses_per_batch) / len(losses_per_batch)\n",
    "        acc_per_epoch.append(cur_acc)\n",
    "\n",
    "        # lr scheduler\n",
    "        # scheduler.step(auc)\n",
    "\n",
    "        # save model\n",
    "        if epoch > 10 and auc > max_auc:\n",
    "            checkpoint = {\n",
    "                \"model\": model.state_dict(),\n",
    "                \"optimizer\": optimizer.state_dict()\n",
    "            }\n",
    "            print(f\"epoch: [{epoch + 1}/{cfg.num_epochs}], \", end=\"\")\n",
    "            save_checkpoint(checkpoint, \"./checkpoint/best_auc_model.pth.tar\")\n",
    "            max_auc = auc\n",
    "\n",
    "        # print log\n",
    "        end_time = time.time()\n",
    "        print(f\"epoch: [{epoch + 1}/{cfg.num_epochs}], \"\n",
    "              f\"loss: {mean_loss:.8f}, \"\n",
    "              f\"acc: {cur_acc.item():.4f}, \"\n",
    "              f\"auc: {auc:.4f}, \"\n",
    "              f\"time used: {(end_time - start_time)/60:.4f}m\")"
   ]
  },
  {
   "cell_type": "markdown",
   "id": "5a68e34a",
   "metadata": {},
   "source": [
    "## Train Model"
   ]
  },
  {
   "cell_type": "code",
   "execution_count": 10,
   "id": "59f0e6f8",
   "metadata": {},
   "outputs": [],
   "source": [
    "# create a config\n",
    "cfg = Config()"
   ]
  },
  {
   "cell_type": "markdown",
   "id": "bdd396f3",
   "metadata": {},
   "source": [
    "### Data Prepare"
   ]
  },
  {
   "cell_type": "code",
   "execution_count": null,
   "id": "0a4ef737",
   "metadata": {},
   "outputs": [],
   "source": [
    "trainset_dir = \"./dataset/train\"\n",
    "traindesc_dir = \"./dataset/train description.csv\"\n",
    "\n",
    "# transform\n",
    "train_transform = transforms.Compose([\n",
    "        transforms.ToTensor(),\n",
    "        transforms.RandomAffine(degrees=(0, 180), translate=(0.2, 0.2)),\n",
    "        transforms.Resize((150, 150))\n",
    "    ])\n",
    "\n",
    "train_set = MyData(traindesc_dir, trainset_dir, transform=train_transform)\n",
    "train_loader = DataLoader(train_set, batch_size=cfg.batch_size, shuffle=True)"
   ]
  },
  {
   "cell_type": "markdown",
   "id": "edfad72c",
   "metadata": {},
   "source": [
    "### Train"
   ]
  },
  {
   "cell_type": "code",
   "execution_count": null,
   "id": "deaaf305",
   "metadata": {},
   "outputs": [],
   "source": [
    "model = ResNetClf(True).to(device)\n",
    "criterion = nn.CrossEntropyLoss()\n",
    "optimizer = optim.Adam(model.parameters(), lr=cfg.lr)\n",
    "\n",
    "train_fn(cfg, train_loader, test_loader, model, optimizer, criterion)"
   ]
  },
  {
   "cell_type": "markdown",
   "id": "d41d3545",
   "metadata": {},
   "source": [
    "# Evaluation "
   ]
  },
  {
   "cell_type": "code",
   "execution_count": 11,
   "id": "4b3c84a2",
   "metadata": {},
   "outputs": [],
   "source": [
    "import torch\n",
    "from torchvision import transforms\n",
    "from torch.utils.data import DataLoader\n",
    "from torch import optim\n",
    "from utils import check_accuracy, load_checkpoint, plot_roc\n",
    "from sklearn.metrics import roc_curve"
   ]
  },
  {
   "cell_type": "code",
   "execution_count": null,
   "id": "cb3fae8b",
   "metadata": {},
   "outputs": [],
   "source": [
    "# create a config\n",
    "cfg = Config()"
   ]
  },
  {
   "cell_type": "markdown",
   "id": "a02b7aaa",
   "metadata": {},
   "source": [
    "## Test Data Prepare"
   ]
  },
  {
   "cell_type": "markdown",
   "id": "c50fd417",
   "metadata": {},
   "source": [
    "**You can get pretrained weight <a href=\"https://drive.google.com/file/d/1qBUT7DeNHvFvYAdQRyyNjIKop2CQX23Z/view?usp=sharing\">here</a>**\n",
    "\n",
    "**After downloading it, add it to the directory \"./checkpoint\". Then you can perform the evaluation.**"
   ]
  },
  {
   "cell_type": "code",
   "execution_count": 12,
   "id": "2f0421b5",
   "metadata": {},
   "outputs": [
    {
     "name": "stdout",
     "output_type": "stream",
     "text": [
      "Compose(\n",
      "    ToTensor()\n",
      "    Resize(size=(150, 150), interpolation=bilinear, max_size=None, antialias=None)\n",
      ")\n"
     ]
    }
   ],
   "source": [
    "testset_dir = \"./dataset/val\"\n",
    "testdesc_dir = \"./dataset/val description.csv\"\n",
    "pretrained_model = \"./checkpoint/best_auc_model.pth.tar\"\n",
    "\n",
    "test_tranform = transforms.Compose([\n",
    "    transforms.ToTensor(),\n",
    "    transforms.Resize((150, 150))\n",
    "])\n",
    "\n",
    "test_set = MyData(testdesc_dir, testset_dir, transform=test_tranform)\n",
    "test_loader = DataLoader(test_set, batch_size=cfg.batch_size)"
   ]
  },
  {
   "cell_type": "code",
   "execution_count": 13,
   "id": "4fdb3b5d",
   "metadata": {},
   "outputs": [
    {
     "name": "stdout",
     "output_type": "stream",
     "text": [
      "====> Load model from ./checkpoint/best_auc_model.pth.tar\n"
     ]
    }
   ],
   "source": [
    "model = ResNetClf(False).to(device)\n",
    "optimizer = optim.Adam(model.parameters(), lr=cfg.lr)\n",
    "load_checkpoint(pretrained_model, model, optimizer)"
   ]
  },
  {
   "cell_type": "code",
   "execution_count": 14,
   "id": "0a1517a4",
   "metadata": {},
   "outputs": [
    {
     "name": "stdout",
     "output_type": "stream",
     "text": [
      "acc: 0.9417333333333334, auc: 0.9914998666666667\n"
     ]
    },
    {
     "data": {
      "image/png": "[encoded data removed]",
      "text/plain": [
       "<Figure size 720x504 with 1 Axes>"
      ]
     },
     "metadata": {
      "needs_background": "light"
     },
     "output_type": "display_data"
    }
   ],
   "source": [
    "acc, auc, y_true, y_pred = check_accuracy(test_loader, model, device)\n",
    "print(f\"acc: {acc.item()}, auc: {auc}\")\n",
    "\n",
    "fpr, tpr, thresholds = roc_curve(y_true, y_pred)\n",
    "plot_roc(fpr, tpr, auc)"
   ]
  },
  {
   "cell_type": "code",
   "execution_count": null,
   "id": "c3e8232b",
   "metadata": {},
   "outputs": [],
   "source": []
  }
 ],
 "metadata": {
  "kernelspec": {
   "display_name": "Python 3 (ipykernel)",
   "language": "python",
   "name": "python3"
  },
  "language_info": {
   "codemirror_mode": {
    "name": "ipython",
    "version": 3
   },
   "file_extension": ".py",
   "mimetype": "text/x-python",
   "name": "python",
   "nbconvert_exporter": "python",
   "pygments_lexer": "ipython3",
   "version": "3.8.12"
  },
  "toc": {
   "base_numbering": 1,
   "nav_menu": {},
   "number_sections": true,
   "sideBar": true,
   "skip_h1_title": false,
   "title_cell": "Table of Contents",
   "title_sidebar": "Contents",
   "toc_cell": false,
   "toc_position": {
    "height": "calc(100% - 180px)",
    "left": "10px",
    "top": "150px",
    "width": "307.2px"
   },
   "toc_section_display": true,
   "toc_window_display": true
  }
 },
 "nbformat": 4,
 "nbformat_minor": 5
}
