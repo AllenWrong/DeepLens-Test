{
 "cells": [
  {
   "cell_type": "markdown",
   "id": "a275ec9d",
   "metadata": {
    "id": "a275ec9d"
   },
   "source": [
    "# Prepare"
   ]
  },
  {
   "cell_type": "code",
   "execution_count": 1,
   "id": "4da6a957",
   "metadata": {
    "id": "4da6a957"
   },
   "outputs": [],
   "source": [
    "import torch\n",
    "import numpy as np\n",
    "import random\n",
    "from torch.backends import cudnn"
   ]
  },
  {
   "cell_type": "markdown",
   "id": "3edb3f8f",
   "metadata": {
    "id": "3edb3f8f"
   },
   "source": [
    "**Set the seed. Let the result can be Reproducible**"
   ]
  },
  {
   "cell_type": "code",
   "execution_count": 2,
   "id": "a4bb5c79",
   "metadata": {
    "id": "a4bb5c79"
   },
   "outputs": [],
   "source": [
    "seed = 20\n",
    "\n",
    "# set random seed\n",
    "torch.manual_seed(seed)\n",
    "torch.cuda.manual_seed_all(seed)\n",
    "np.random.seed(seed)\n",
    "random.seed(seed)\n",
    "cudnn.deterministic = True"
   ]
  },
  {
   "cell_type": "code",
   "execution_count": 3,
   "id": "d32443d6",
   "metadata": {
    "id": "d32443d6"
   },
   "outputs": [],
   "source": [
    "device = torch.device(\"cuda\" if torch.cuda.is_available() else \"cpu\")\n",
    "torch.set_default_dtype(torch.float64)"
   ]
  },
  {
   "cell_type": "markdown",
   "id": "7ddb56d8",
   "metadata": {
    "id": "7ddb56d8"
   },
   "source": [
    "# Data Define"
   ]
  },
  {
   "cell_type": "code",
   "execution_count": 4,
   "id": "3342ee46",
   "metadata": {
    "id": "3342ee46"
   },
   "outputs": [],
   "source": [
    "from torch.utils.data import Dataset\n",
    "import pandas as pd\n",
    "import numpy as np\n",
    "import torchvision.transforms as transforms\n",
    "import os\n",
    "import torch"
   ]
  },
  {
   "cell_type": "markdown",
   "id": "d7467256",
   "metadata": {
    "id": "d7467256"
   },
   "source": [
    "## MyData class Define"
   ]
  },
  {
   "cell_type": "code",
   "execution_count": 5,
   "id": "245a4012",
   "metadata": {
    "id": "245a4012"
   },
   "outputs": [],
   "source": [
    "class MyData(Dataset):\n",
    "\n",
    "    def __init__(self, csv_file, data_dir, transform=None):\n",
    "        self.desc = pd.read_csv(csv_file)\n",
    "        self.data_dir = data_dir\n",
    "        self.transform = transform\n",
    "        print(self.transform)\n",
    "\n",
    "    def __len__(self):\n",
    "        return len(self.desc)\n",
    "\n",
    "    def __getitem__(self, item):\n",
    "        path = os.path.join(self.data_dir, self.desc.iloc[item, 0])\n",
    "        x = np.load(path)[0]\n",
    "\n",
    "        if self.transform is not None:\n",
    "            x = self.transform(x)\n",
    "\n",
    "        label = torch.tensor(self.desc.iloc[item, 1])\n",
    "        return x, label"
   ]
  },
  {
   "cell_type": "markdown",
   "id": "468aba70",
   "metadata": {
    "id": "468aba70"
   },
   "source": [
    "## Create Data Description"
   ]
  },
  {
   "cell_type": "markdown",
   "id": "01e5669e",
   "metadata": {
    "id": "01e5669e"
   },
   "source": [
    "The file organization of this task dataset should be as follows:\n",
    "\n",
    "****\n",
    "```\n",
    "DeepLens-Test\n",
    "  |-- CommonTest\n",
    "     |-- dataset\n",
    "        |-- train\n",
    "           |-- no\n",
    "           |-- sphere\n",
    "           |-- vort\n",
    "        |-- val\n",
    "           |-- no\n",
    "           |-- sphere\n",
    "           |-- vort\n",
    "        |-- test description.csv\n",
    "        |-- train description.csv\n",
    "        |-- val description.csv\n",
    "```\n",
    "****\n",
    "\n",
    "`train description.csv` `test description.csv` and `val description.csv` is generate by program. I have provided it. Dataset can be get <a href=\"https://drive.google.com/file/d/1B_UZtU4W65ZViTJsLeFfvK-xXCYUhw2A/view\">here</a>."
   ]
  },
  {
   "cell_type": "code",
   "execution_count": 6,
   "id": "89b80836",
   "metadata": {
    "id": "89b80836"
   },
   "outputs": [],
   "source": [
    "def index_of_class(classname):\n",
    "    if classname == \"no\":\n",
    "        return 0\n",
    "    elif classname == \"sphere\":\n",
    "        return 1\n",
    "    elif classname == \"vort\":\n",
    "        return 2\n",
    "    else:\n",
    "        raise Exception(\"unknown class name!\")\n",
    "\n",
    "\n",
    "def create_train_description(data_dir, train_rate=0.9, need_num=None):\n",
    "    \"\"\"create a description csv file. see \"./dataset/train description.csv\",\n",
    "    \"./dataset/val description.csv\". Some demo example can be find in demo.py\n",
    "\n",
    "    Args:\n",
    "        data_dir:\n",
    "            root directory of train or val dataset. Here,\n",
    "            it should be \"./dataset/train\"\n",
    "        train_rate:\n",
    "            rate of train set\n",
    "        need_num:\n",
    "            set the numbers of samples you need.\n",
    "    \"\"\"\n",
    "    class_dirs = os.listdir(data_dir)\n",
    "    line_train = \"path,label\\n\"\n",
    "    line_val = \"path,label\\n\"\n",
    "    for class_dir in class_dirs:\n",
    "        samples = os.listdir(os.path.join(data_dir, class_dir))[:need_num]\n",
    "\n",
    "        # split train set to train and val\n",
    "        end_idx = int(train_rate * len(samples))\n",
    "        random.shuffle(samples)\n",
    "        train_samples = samples[:end_idx]\n",
    "        val_samples = samples[end_idx:]\n",
    "\n",
    "        for sample in train_samples:\n",
    "            line_train += os.path.join(class_dir, sample) + \",\" + str(index_of_class(class_dir)) + \"\\n\"\n",
    "\n",
    "        for sample in val_samples:\n",
    "            line_val += os.path.join(class_dir, sample) + \",\" + str(index_of_class(class_dir)) + \"\\n\"\n",
    "\n",
    "    store_path = os.path.join(\"./dataset\", \"train description.csv\")\n",
    "    with open(store_path, \"w\") as f:\n",
    "        f.write(line_train)\n",
    "\n",
    "    if train_rate != 1:\n",
    "        store_path = os.path.join(\"./dataset\", \"val description.csv\")\n",
    "        with open(store_path, \"w\") as f:\n",
    "            f.write(line_val)\n",
    "\n",
    "\n",
    "def create_test_description(data_dir, need_num=None):\n",
    "    \"\"\"create a description csv file. see \"./dataset/test description.csv\".\n",
    "    Some demo example can be find in demo.py\n",
    "\n",
    "    Args:\n",
    "        data_dir:\n",
    "            root directory of train or val dataset. Here,\n",
    "            it should be \"./dataset/val\"\n",
    "        need_num:\n",
    "            set the numbers of samples you need.\n",
    "    \"\"\"\n",
    "    class_dirs = os.listdir(data_dir)\n",
    "\n",
    "    line = \"path,label\\n\"\n",
    "    for class_dir in class_dirs:\n",
    "        samples = os.listdir(os.path.join(data_dir, class_dir))[:need_num]\n",
    "\n",
    "        for sample in samples:\n",
    "            line += os.path.join(class_dir, sample) + \",\" + str(index_of_class(class_dir)) + \"\\n\"\n",
    "\n",
    "    store_path = os.path.join(\"./dataset\", \"test description.csv\")\n",
    "    with open(store_path, \"w\") as f:\n",
    "        f.write(line)"
   ]
  },
  {
   "cell_type": "markdown",
   "id": "8222ea0f",
   "metadata": {
    "id": "8222ea0f"
   },
   "source": [
    "**run once is ok. If description files already exist, do not run this part.**"
   ]
  },
  {
   "cell_type": "code",
   "execution_count": 7,
   "id": "1eb3a068",
   "metadata": {
    "id": "1eb3a068"
   },
   "outputs": [],
   "source": [
    "# create_train_description(\"./dataset/train\")\n",
    "# create_test_description(\"./dataset/val\")"
   ]
  },
  {
   "cell_type": "markdown",
   "id": "278a0735",
   "metadata": {
    "id": "278a0735"
   },
   "source": [
    "# Model Define"
   ]
  },
  {
   "cell_type": "code",
   "execution_count": 8,
   "id": "f0ecd5a3",
   "metadata": {
    "id": "f0ecd5a3"
   },
   "outputs": [],
   "source": [
    "from torch import nn\n",
    "from torchvision import models\n",
    "from torch.nn import Conv2d"
   ]
  },
  {
   "cell_type": "markdown",
   "id": "870ceca9",
   "metadata": {
    "id": "870ceca9"
   },
   "source": [
    "This dataset is not complicated. So, simple deep model such as AlexNet, VGG, ResNet, DenseNet can be competent at this task. According to paper[1], for ResNet, the defining feature is that residual networks can skip layers all together in training. This helps speed up the learning rate of the network by allowing the network to train fewer layers in the initial stages of learning. ResNet is more computationally efficient than both VGG and DenseNet. Here, we use ResNet18.\n",
    "\n",
    "Many tasks have been benefit from transfer learning. Transfer learning can speed up the time of training models by reusing modules or parts of pretrained models. This not only speeds up the model training process, but also improves the training effect. By transfer learning, we use the pretrained ResNet18 on ImageNet as backbone. The we add a three layers mlp as a simple classifier. The model architecture look like this:\n",
    "\n",
    "<center><img src=\"https://cdn.jsdelivr.net/gh/AllenWrong/BlogCDN/img/res arch.png\" max-witdh=\"50%\" max-height=\"50%\"/></center>\n",
    "\n",
    "**[1]** Deep Learning the Morphology of Dark Matter Substructure"
   ]
  },
  {
   "cell_type": "code",
   "execution_count": 9,
   "id": "91ddccb0",
   "metadata": {
    "id": "91ddccb0"
   },
   "outputs": [],
   "source": [
    "class ResNetClf(nn.Module):\n",
    "\n",
    "    def __init__(self, pre_trained):\n",
    "        \"\"\"\n",
    "        Args:\n",
    "            pre_trained: True if want to use pretrained weight else false\n",
    "        \"\"\"\n",
    "        super(ResNetClf, self).__init__()\n",
    "        self.backbone = models.resnet18(pretrained=pre_trained)\n",
    "        self.classifier = nn.Sequential(\n",
    "            nn.Linear(512, 128),\n",
    "            nn.ReLU(),\n",
    "            nn.Linear(128, 64),\n",
    "            nn.ReLU(),\n",
    "            nn.Linear(64, 3)\n",
    "        )\n",
    "        self.backbone.conv1 = Conv2d(1, 64, kernel_size=(7, 7), stride=(2, 2), padding=(3, 3), bias=False)\n",
    "        self.backbone.fc = self.classifier\n",
    "\n",
    "    def forward(self, x):\n",
    "        return self.backbone(x)"
   ]
  },
  {
   "cell_type": "markdown",
   "id": "1aa2680b",
   "metadata": {
    "id": "1aa2680b"
   },
   "source": [
    "# Training"
   ]
  },
  {
   "cell_type": "markdown",
   "id": "71e6fec2",
   "metadata": {
    "id": "71e6fec2"
   },
   "source": [
    "- **data augmentation:** According paper[1], during training I use the data augmengtation via random translation and random rotation.\n",
    "\n",
    "\n",
    "- **batch_size:** I have tried batch_size=200, batch_size=64, batch_size=128. Results show that batch_size=128 same a better choice. Larger batch_size can improve the computational efficiency through the matrix multiply. More larger batch_size reduces the number of iterations required to compute all the training set, so the time required to achieve the same accuracy becomes larger, and the adjust of parameters becomes slow.\n",
    "\n",
    "\n",
    "- **num_epoch:** 50\n",
    "\n",
    "\n",
    "- **lr:** According to paper[1], I set the lr with value of 1e-4. If the AUC does not increase for four consecutive epochs, the learning rate will be multiplied by 0.7 to decay.\n",
    "\n",
    "\n",
    "- **train:** When one epoch has finished, model will evaluate it's current performance on the validation dataset.  \n",
    "\n",
    "\n",
    "**Final auc is 98.95%, acc is 92.87%**, which is an acceptable result.\n",
    "\n",
    "**[1]** Deep Learning the Morphology of Dark Matter Substructure"
   ]
  },
  {
   "cell_type": "markdown",
   "id": "3428780c",
   "metadata": {
    "id": "3428780c"
   },
   "source": [
    "## Training Config Define"
   ]
  },
  {
   "cell_type": "code",
   "execution_count": 10,
   "id": "c4e243e4",
   "metadata": {
    "id": "c4e243e4"
   },
   "outputs": [],
   "source": [
    "class Config:\n",
    "    num_epochs = 50\n",
    "    batch_size = 128\n",
    "    # reference from paper \"Deep Learning the Morphology of Dark Matter Substructure\"\n",
    "    lr = 1e-4"
   ]
  },
  {
   "cell_type": "markdown",
   "id": "aa716c65",
   "metadata": {
    "id": "aa716c65"
   },
   "source": [
    "## Import Package"
   ]
  },
  {
   "cell_type": "code",
   "execution_count": 11,
   "id": "826c8ec6",
   "metadata": {
    "id": "826c8ec6"
   },
   "outputs": [],
   "source": [
    "import torch.optim as optim\n",
    "from utils import check_accuracy, save_checkpoint\n",
    "import torch.nn as nn\n",
    "from torch.utils.data import DataLoader\n",
    "import time\n",
    "from tqdm import tqdm\n",
    "import sys\n",
    "from torch.optim.lr_scheduler import ReduceLROnPlateau\n",
    "from torchvision import transforms"
   ]
  },
  {
   "cell_type": "markdown",
   "id": "eaeaefd0",
   "metadata": {
    "id": "eaeaefd0"
   },
   "source": [
    "## Train Function Define"
   ]
  },
  {
   "cell_type": "code",
   "execution_count": 12,
   "id": "d6d582c9",
   "metadata": {
    "id": "d6d582c9"
   },
   "outputs": [],
   "source": [
    "def train_fn(cfg, train_loader, val_loader, model, optimizer, criterion, need_flatten=False):\n",
    "    \"\"\"\n",
    "    train function\n",
    "    \"\"\"\n",
    "\n",
    "    acc_per_epoch = []\n",
    "    max_auc = 0.0\n",
    "\n",
    "    # lr scheduler\n",
    "    scheduler = ReduceLROnPlateau(\n",
    "        optimizer,\n",
    "        mode=\"max\",\n",
    "        factor=0.8,\n",
    "        patience=4,\n",
    "        threshold=0.001,\n",
    "        min_lr=1e-5,\n",
    "        verbose=True\n",
    "    )\n",
    "\n",
    "    for epoch in range(cfg.num_epochs):\n",
    "        losses_per_batch = []\n",
    "        start_time = time.time()\n",
    "\n",
    "        # mini batch training\n",
    "        p_bar = tqdm(enumerate(train_loader), leave=False, total=len(train_loader), file=sys.stdout)\n",
    "        for batch_idx, (x_batch, y_batch) in p_bar:\n",
    "            # move data to gpu if cuda is available\n",
    "            x_batch = x_batch.to(device)\n",
    "            y_batch = y_batch.to(device)\n",
    "\n",
    "            if need_flatten:\n",
    "                x_batch = x_batch.reshape(x_batch.shape[0], -1)\n",
    "\n",
    "            # forward\n",
    "            scores = model.forward(x_batch)\n",
    "            loss = criterion(scores, y_batch)\n",
    "            losses_per_batch.append(loss.item())\n",
    "\n",
    "            # backward\n",
    "            optimizer.zero_grad()\n",
    "            loss.backward()\n",
    "\n",
    "            # gradient descent step\n",
    "            optimizer.step()\n",
    "\n",
    "        # compute acc and loss\n",
    "        cur_acc, auc, _, _ = check_accuracy(val_loader, model, device, need_flatten)\n",
    "        mean_loss = sum(losses_per_batch) / len(losses_per_batch)\n",
    "        acc_per_epoch.append(cur_acc)\n",
    "\n",
    "        # lr scheduler\n",
    "        scheduler.step(auc)\n",
    "\n",
    "        # save model\n",
    "        if epoch >= 20 and auc > max_auc:\n",
    "            checkpoint = {\n",
    "                \"model\": model.state_dict(),\n",
    "                \"optimizer\": optimizer.state_dict()\n",
    "            }\n",
    "            print(f\"epoch: [{epoch + 1}/{cfg.num_epochs}], \", end=\"\")\n",
    "            save_checkpoint(checkpoint, \"./checkpoint/best_auc_model.pth.tar\")\n",
    "            max_auc = auc\n",
    "\n",
    "        # print log\n",
    "        end_time = time.time()\n",
    "        print(f\"epoch: [{epoch + 1}/{cfg.num_epochs}], \"\n",
    "              f\"loss: {mean_loss:.8f}, \"\n",
    "              f\"val acc: {cur_acc.item():.4f}, \"\n",
    "              f\"val auc: {auc:.4f}, \"\n",
    "              f\"time used: {(end_time - start_time)/60:.4f}m\")"
   ]
  },
  {
   "cell_type": "markdown",
   "id": "5a68e34a",
   "metadata": {
    "id": "5a68e34a"
   },
   "source": [
    "## Train Model"
   ]
  },
  {
   "cell_type": "code",
   "execution_count": 13,
   "id": "59f0e6f8",
   "metadata": {
    "id": "59f0e6f8"
   },
   "outputs": [],
   "source": [
    "# create a config\n",
    "cfg = Config()"
   ]
  },
  {
   "cell_type": "markdown",
   "id": "bdd396f3",
   "metadata": {
    "id": "bdd396f3"
   },
   "source": [
    "### Data Prepare"
   ]
  },
  {
   "cell_type": "code",
   "execution_count": 14,
   "id": "0a4ef737",
   "metadata": {
    "id": "0a4ef737"
   },
   "outputs": [],
   "source": [
    "train_dir = \"./dataset/train\"\n",
    "val_dir = \"./dataset/train\"\n",
    "test_dir = \"./dataset/val\"\n",
    "\n",
    "train_desc_dir = \"./dataset/train description.csv\"\n",
    "val_desc_dir = \"./dataset/val description.csv\"\n",
    "test_desc_dir = \"./dataset/test description.csv\"\n",
    "\n",
    "# transform\n",
    "train_transform = transforms.Compose([\n",
    "        transforms.ToTensor(),\n",
    "        transforms.RandomAffine(degrees=(0, 180), translate=(0.2, 0.2)),\n",
    "        transforms.Resize((150, 150))\n",
    "    ])\n",
    "val_transform = transforms.Compose([\n",
    "    transforms.ToTensor(),\n",
    "    transforms.Resize((150, 150))\n",
    "])"
   ]
  },
  {
   "cell_type": "code",
   "execution_count": 15,
   "id": "3fc073e0",
   "metadata": {
    "colab": {
     "base_uri": "https://localhost:8080/"
    },
    "id": "3fc073e0",
    "outputId": "2b750767-1393-43f4-b351-f471b485d2f7"
   },
   "outputs": [
    {
     "name": "stdout",
     "output_type": "stream",
     "text": [
      "Compose(\n",
      "    ToTensor()\n",
      "    RandomAffine(degrees=[0.0, 180.0], translate=(0.2, 0.2))\n",
      "    Resize(size=(150, 150), interpolation=bilinear, max_size=None, antialias=None)\n",
      ")\n",
      "Compose(\n",
      "    ToTensor()\n",
      "    Resize(size=(150, 150), interpolation=bilinear, max_size=None, antialias=None)\n",
      ")\n"
     ]
    }
   ],
   "source": [
    "train_set = MyData(train_desc_dir, train_dir, transform=train_transform)\n",
    "val_set = MyData(val_desc_dir, val_dir, transform=val_transform)\n",
    "\n",
    "train_loader = DataLoader(train_set, batch_size=cfg.batch_size, shuffle=True, pin_memory=True)\n",
    "val_loader = DataLoader(val_set, batch_size=cfg.batch_size, pin_memory=True)"
   ]
  },
  {
   "cell_type": "markdown",
   "id": "edfad72c",
   "metadata": {
    "id": "edfad72c"
   },
   "source": [
    "### Train"
   ]
  },
  {
   "cell_type": "code",
   "execution_count": 16,
   "id": "e046a393-30c8-4f66-8ec4-75eab9b7f5dc",
   "metadata": {},
   "outputs": [],
   "source": [
    "if not os.path.exists(\"checkpoint\"):\n",
    "    os.makedirs(\"checkpoint\")"
   ]
  },
  {
   "cell_type": "code",
   "execution_count": 17,
   "id": "deaaf305",
   "metadata": {
    "id": "deaaf305"
   },
   "outputs": [
    {
     "name": "stdout",
     "output_type": "stream",
     "text": [
      "epoch: [1/50], loss: 1.09917662, val acc: 0.3860, val auc: 0.5597, time used: 5.7564m\n",
      "epoch: [2/50], loss: 1.07380610, val acc: 0.4153, val auc: 0.6187, time used: 5.7530m\n",
      "epoch: [3/50], loss: 0.95937999, val acc: 0.4490, val auc: 0.6858, time used: 5.7555m\n",
      "epoch: [4/50], loss: 0.82470558, val acc: 0.5893, val auc: 0.7934, time used: 5.7500m\n",
      "epoch: [5/50], loss: 0.71235942, val acc: 0.7147, val auc: 0.8870, time used: 5.7498m\n",
      "epoch: [6/50], loss: 0.62316861, val acc: 0.7057, val auc: 0.8833, time used: 5.7506m\n",
      "epoch: [7/50], loss: 0.54778413, val acc: 0.7553, val auc: 0.9157, time used: 5.7513m\n",
      "epoch: [8/50], loss: 0.49973536, val acc: 0.8123, val auc: 0.9439, time used: 5.7525m\n",
      "epoch: [9/50], loss: 0.46813309, val acc: 0.8207, val auc: 0.9498, time used: 5.7574m\n",
      "epoch: [10/50], loss: 0.43722969, val acc: 0.8443, val auc: 0.9578, time used: 5.7484m\n",
      "epoch: [11/50], loss: 0.41298067, val acc: 0.7997, val auc: 0.9449, time used: 5.7475m\n",
      "epoch: [12/50], loss: 0.38993755, val acc: 0.8263, val auc: 0.9571, time used: 5.7488m\n",
      "epoch: [13/50], loss: 0.37305418, val acc: 0.8553, val auc: 0.9680, time used: 5.7474m\n",
      "epoch: [14/50], loss: 0.36269888, val acc: 0.8510, val auc: 0.9632, time used: 5.7454m\n",
      "epoch: [15/50], loss: 0.34930719, val acc: 0.8573, val auc: 0.9666, time used: 5.7541m\n",
      "epoch: [16/50], loss: 0.34085144, val acc: 0.8570, val auc: 0.9660, time used: 5.7516m\n",
      "epoch: [17/50], loss: 0.31987531, val acc: 0.8673, val auc: 0.9679, time used: 5.7626m\n",
      "Epoch    18: reducing learning rate of group 0 to 8.0000e-05.\n",
      "epoch: [18/50], loss: 0.31534035, val acc: 0.8597, val auc: 0.9664, time used: 5.7573m\n",
      "epoch: [19/50], loss: 0.30151504, val acc: 0.8920, val auc: 0.9775, time used: 5.7487m\n",
      "epoch: [20/50], loss: 0.28990176, val acc: 0.8853, val auc: 0.9761, time used: 5.7544m\n",
      "epoch: [21/50], ====> Save checkpoint in ./checkpoint/best_auc_model.pth.tar\n",
      "epoch: [21/50], loss: 0.28338485, val acc: 0.8807, val auc: 0.9723, time used: 5.7609m\n",
      "epoch: [22/50], ====> Save checkpoint in ./checkpoint/best_auc_model.pth.tar\n",
      "epoch: [22/50], loss: 0.27309732, val acc: 0.8947, val auc: 0.9798, time used: 5.7588m\n",
      "epoch: [23/50], loss: 0.27709280, val acc: 0.8750, val auc: 0.9721, time used: 5.7478m\n",
      "epoch: [24/50], loss: 0.26795964, val acc: 0.8800, val auc: 0.9754, time used: 5.7530m\n",
      "epoch: [25/50], loss: 0.26300544, val acc: 0.8943, val auc: 0.9789, time used: 5.7575m\n",
      "epoch: [26/50], loss: 0.25613450, val acc: 0.8917, val auc: 0.9781, time used: 5.7519m\n",
      "epoch: [27/50], ====> Save checkpoint in ./checkpoint/best_auc_model.pth.tar\n",
      "epoch: [27/50], loss: 0.25407544, val acc: 0.8937, val auc: 0.9813, time used: 5.7632m\n",
      "epoch: [28/50], ====> Save checkpoint in ./checkpoint/best_auc_model.pth.tar\n",
      "epoch: [28/50], loss: 0.24581066, val acc: 0.9040, val auc: 0.9824, time used: 5.7621m\n",
      "epoch: [29/50], ====> Save checkpoint in ./checkpoint/best_auc_model.pth.tar\n",
      "epoch: [29/50], loss: 0.24589001, val acc: 0.9047, val auc: 0.9837, time used: 5.7679m\n",
      "epoch: [30/50], loss: 0.24426743, val acc: 0.8913, val auc: 0.9800, time used: 5.7542m\n",
      "epoch: [31/50], loss: 0.23757527, val acc: 0.9037, val auc: 0.9823, time used: 5.7503m\n",
      "epoch: [32/50], ====> Save checkpoint in ./checkpoint/best_auc_model.pth.tar\n",
      "epoch: [32/50], loss: 0.23634910, val acc: 0.9077, val auc: 0.9843, time used: 5.7619m\n",
      "epoch: [33/50], ====> Save checkpoint in ./checkpoint/best_auc_model.pth.tar\n",
      "epoch: [33/50], loss: 0.23056181, val acc: 0.9007, val auc: 0.9844, time used: 5.7606m\n",
      "epoch: [34/50], ====> Save checkpoint in ./checkpoint/best_auc_model.pth.tar\n",
      "epoch: [34/50], loss: 0.22650623, val acc: 0.9040, val auc: 0.9851, time used: 5.7625m\n",
      "epoch: [35/50], loss: 0.22662611, val acc: 0.9120, val auc: 0.9851, time used: 5.7515m\n",
      "epoch: [36/50], ====> Save checkpoint in ./checkpoint/best_auc_model.pth.tar\n",
      "epoch: [36/50], loss: 0.22237982, val acc: 0.9190, val auc: 0.9876, time used: 5.7643m\n",
      "epoch: [37/50], loss: 0.22068317, val acc: 0.9130, val auc: 0.9858, time used: 5.7520m\n",
      "epoch: [38/50], loss: 0.21826052, val acc: 0.9143, val auc: 0.9869, time used: 5.7496m\n",
      "epoch: [39/50], loss: 0.21323591, val acc: 0.9080, val auc: 0.9857, time used: 5.7512m\n",
      "epoch: [40/50], loss: 0.21264665, val acc: 0.9210, val auc: 0.9872, time used: 5.7484m\n",
      "Epoch    41: reducing learning rate of group 0 to 6.4000e-05.\n",
      "epoch: [41/50], loss: 0.20884565, val acc: 0.9137, val auc: 0.9867, time used: 5.7467m\n",
      "epoch: [42/50], loss: 0.20281992, val acc: 0.9127, val auc: 0.9864, time used: 5.7506m\n",
      "epoch: [43/50], ====> Save checkpoint in ./checkpoint/best_auc_model.pth.tar\n",
      "epoch: [43/50], loss: 0.19693113, val acc: 0.9223, val auc: 0.9879, time used: 5.7630m\n",
      "epoch: [44/50], loss: 0.19816629, val acc: 0.9120, val auc: 0.9873, time used: 5.7517m\n",
      "epoch: [45/50], loss: 0.19221107, val acc: 0.9190, val auc: 0.9866, time used: 5.7550m\n",
      "epoch: [46/50], ====> Save checkpoint in ./checkpoint/best_auc_model.pth.tar\n",
      "epoch: [46/50], loss: 0.18756298, val acc: 0.9230, val auc: 0.9888, time used: 5.7621m\n",
      "epoch: [47/50], loss: 0.18693715, val acc: 0.9150, val auc: 0.9854, time used: 5.7503m\n",
      "epoch: [48/50], loss: 0.18934451, val acc: 0.9197, val auc: 0.9883, time used: 5.7477m\n",
      "epoch: [49/50], loss: 0.18429150, val acc: 0.9250, val auc: 0.9881, time used: 5.7477m\n",
      "epoch: [50/50], loss: 0.18301214, val acc: 0.9267, val auc: 0.9882, time used: 5.7501m\n"
     ]
    }
   ],
   "source": [
    "model = ResNetClf(True).to(device)\n",
    "criterion = nn.CrossEntropyLoss()\n",
    "optimizer = optim.Adam(model.parameters(), lr=cfg.lr)\n",
    "\n",
    "train_fn(cfg, train_loader, val_loader, model, optimizer, criterion)"
   ]
  },
  {
   "cell_type": "markdown",
   "id": "d41d3545",
   "metadata": {
    "id": "d41d3545"
   },
   "source": [
    "# Evaluation "
   ]
  },
  {
   "cell_type": "code",
   "execution_count": 18,
   "id": "4b3c84a2",
   "metadata": {
    "id": "4b3c84a2"
   },
   "outputs": [],
   "source": [
    "import torch\n",
    "from torchvision import transforms\n",
    "from torch.utils.data import DataLoader\n",
    "from torch import optim\n",
    "from utils import check_accuracy, load_checkpoint, plot_roc\n",
    "from sklearn.metrics import roc_curve"
   ]
  },
  {
   "cell_type": "code",
   "execution_count": 19,
   "id": "cb3fae8b",
   "metadata": {
    "id": "cb3fae8b"
   },
   "outputs": [],
   "source": [
    "# create a config\n",
    "cfg = Config()"
   ]
  },
  {
   "cell_type": "markdown",
   "id": "a02b7aaa",
   "metadata": {
    "id": "a02b7aaa"
   },
   "source": [
    "## Test Data Prepare"
   ]
  },
  {
   "cell_type": "markdown",
   "id": "c50fd417",
   "metadata": {
    "id": "c50fd417"
   },
   "source": [
    "**You can get pretrained weight <a href=\"https://drive.google.com/file/d/1CVxOc0YovdcNGguXcSXneIFS9Gy9CnHz/view?usp=sharing\">here</a>**\n",
    "\n",
    "**After downloading it, add it to the directory \"./checkpoint\". Then you can perform the evaluation.**"
   ]
  },
  {
   "cell_type": "code",
   "execution_count": 20,
   "id": "2f0421b5",
   "metadata": {
    "id": "2f0421b5",
    "outputId": "25eda648-f2a3-4a84-90bd-ff551280e1b0"
   },
   "outputs": [
    {
     "name": "stdout",
     "output_type": "stream",
     "text": [
      "Compose(\n",
      "    ToTensor()\n",
      "    Resize(size=(150, 150), interpolation=bilinear, max_size=None, antialias=None)\n",
      ")\n"
     ]
    }
   ],
   "source": [
    "testset_dir = \"./dataset/val\"\n",
    "testdesc_dir = \"./dataset/test description.csv\"\n",
    "pretrained_model = \"./checkpoint/best_auc_model.pth.tar\"\n",
    "\n",
    "test_tranform = transforms.Compose([\n",
    "    transforms.ToTensor(),\n",
    "    transforms.Resize((150, 150))\n",
    "])\n",
    "\n",
    "test_set = MyData(testdesc_dir, testset_dir, transform=test_tranform)\n",
    "test_loader = DataLoader(test_set, batch_size=cfg.batch_size)"
   ]
  },
  {
   "cell_type": "code",
   "execution_count": 21,
   "id": "4fdb3b5d",
   "metadata": {
    "id": "4fdb3b5d",
    "outputId": "f6a098a4-337d-4909-a817-dc90fc83a0f5"
   },
   "outputs": [
    {
     "name": "stdout",
     "output_type": "stream",
     "text": [
      "====> Load model from ./checkpoint/best_auc_model.pth.tar\n"
     ]
    }
   ],
   "source": [
    "model = ResNetClf(False).to(device)\n",
    "optimizer = optim.Adam(model.parameters(), lr=cfg.lr)\n",
    "load_checkpoint(pretrained_model, model, optimizer)"
   ]
  },
  {
   "cell_type": "code",
   "execution_count": 22,
   "id": "0a1517a4",
   "metadata": {
    "id": "0a1517a4",
    "outputId": "8db83f80-f2a1-41f6-9116-01758374078d"
   },
   "outputs": [
    {
     "name": "stdout",
     "output_type": "stream",
     "text": [
      "acc: 0.9286666666666668, auc: 0.98946832\n"
     ]
    },
    {
     "data": {
      "image/png": "[encoded data removed]",
      "text/plain": [
       "<Figure size 720x504 with 1 Axes>"
      ]
     },
     "metadata": {
      "needs_background": "light"
     },
     "output_type": "display_data"
    }
   ],
   "source": [
    "acc, auc, y_true, y_pred = check_accuracy(test_loader, model, device)\n",
    "print(f\"acc: {acc.item()}, auc: {auc}\")\n",
    "\n",
    "fpr, tpr, thresholds = roc_curve(y_true, y_pred)\n",
    "\n",
    "plot_roc(fpr, tpr, auc)"
   ]
  },
  {
   "cell_type": "code",
   "execution_count": null,
   "id": "c3e8232b",
   "metadata": {
    "id": "c3e8232b"
   },
   "outputs": [],
   "source": []
  }
 ],
 "metadata": {
  "accelerator": "GPU",
  "colab": {
   "collapsed_sections": [],
   "name": "Common Test1.ipynb",
   "provenance": []
  },
  "kernelspec": {
   "display_name": "Python 3 (ipykernel)",
   "language": "python",
   "name": "python3"
  },
  "language_info": {
   "codemirror_mode": {
    "name": "ipython",
    "version": 3
   },
   "file_extension": ".py",
   "mimetype": "text/x-python",
   "name": "python",
   "nbconvert_exporter": "python",
   "pygments_lexer": "ipython3",
   "version": "3.7.10"
  },
  "toc": {
   "base_numbering": 1,
   "nav_menu": {},
   "number_sections": true,
   "sideBar": true,
   "skip_h1_title": false,
   "title_cell": "Table of Contents",
   "title_sidebar": "Contents",
   "toc_cell": false,
   "toc_position": {
    "height": "calc(100% - 180px)",
    "left": "10px",
    "top": "150px",
    "width": "307.2px"
   },
   "toc_section_display": true,
   "toc_window_display": true
  }
 },
 "nbformat": 4,
 "nbformat_minor": 5
}
